{
 "cells": [
  {
   "cell_type": "code",
   "execution_count": null,
   "id": "529b0655-14eb-4f60-b5f2-bd2fc935c90e",
   "metadata": {
    "tags": []
   },
   "outputs": [],
   "source": [
    "%load_ext autoreload\n",
    "%autoreload 2\n",
    "%load_ext line_profiler"
   ]
  },
  {
   "cell_type": "code",
   "execution_count": null,
   "id": "c1bf1a1a-cc35-450f-9f6a-148d17ade5a0",
   "metadata": {
    "tags": []
   },
   "outputs": [],
   "source": [
    "import pandas as pd\n",
    "from optimize_hexs0 import evaluate, eval_q\n",
    "import multiprocessing as mp\n",
    "from tqdm import tqdm\n",
    "from tqdm.contrib.concurrent import process_map\n",
    "import numpy as np\n",
    "import matplotlib.pyplot as plt\n",
    "from functools import partial\n",
    "import json"
   ]
  },
  {
   "cell_type": "code",
   "execution_count": null,
   "id": "864c87a2-3a62-4bcb-a6ec-2907a0a2b01e",
   "metadata": {
    "tags": []
   },
   "outputs": [],
   "source": []
  },
  {
   "cell_type": "code",
   "execution_count": null,
   "id": "97e9ecee-b1d3-4040-8dec-e8242de1e499",
   "metadata": {},
   "outputs": [],
   "source": []
  },
  {
   "cell_type": "code",
   "execution_count": null,
   "id": "5ea0c8bd-2d5c-4969-9b9d-118cb0c9f7ae",
   "metadata": {
    "tags": []
   },
   "outputs": [],
   "source": [
    "hs = 200\n",
    "network = 'old'\n",
    "\n",
    "path = f\"data/metrostl/{network}\"\n",
    "with open(f\"{path}/headways.json\", 'r') as f:\n",
    "    current_headways = json.load(f)\n",
    "\n",
    "df_route_lens = pd.read_csv(f\"{path}/processed/route_lens.csv\", index_col=\"route_id\")\n",
    "base_drivers = {k: df_route_lens.loc[k].trip_len / v for k, v in current_headways.items()}\n",
    "base_sum = sum(base_drivers.values())\n",
    "drivers = {k:base_sum/len(base_drivers) for k in base_drivers} # All routes are the same to start\n",
    "base_sum"
   ]
  },
  {
   "cell_type": "code",
   "execution_count": null,
   "id": "d883af08-89d1-44a4-8b17-efb0b4560ddc",
   "metadata": {},
   "outputs": [],
   "source": [
    "%%time\n",
    "evaluate(base_drivers, hs=hs, max_dist=7200, orig='POP21', dest='C000', pct=True, scale=True, network=network)"
   ]
  },
  {
   "cell_type": "code",
   "execution_count": null,
   "id": "7da4e581-ac83-4365-a7e7-420e311d2c05",
   "metadata": {
    "tags": []
   },
   "outputs": [],
   "source": [
    "%%time\n",
    "res_old = evaluate(base_drivers, hs=hs, max_dist=7200, orig='POP21', dest='C000', pct=True, scale=True, vis=True, network=network)"
   ]
  },
  {
   "cell_type": "code",
   "execution_count": null,
   "id": "4f6565f4-957b-4396-955f-72e10c429c1e",
   "metadata": {
    "tags": []
   },
   "outputs": [],
   "source": [
    "res_old.plot('reached', legend=True, figsize=(20,15))\n",
    "res_old.plot('reached_scaled', legend=True, figsize=(20,15), vmax=300)\n",
    "# plt.savefig('test.png', bbox_inches='tight')\n",
    "# plt.close()"
   ]
  },
  {
   "cell_type": "code",
   "execution_count": null,
   "id": "9a2f06fb-ecf7-43fb-a4c9-5850c370808e",
   "metadata": {},
   "outputs": [],
   "source": []
  },
  {
   "cell_type": "code",
   "execution_count": null,
   "id": "576c5caa-95fc-4efb-a84d-c36450e9545c",
   "metadata": {
    "tags": []
   },
   "outputs": [],
   "source": [
    "hs = 200\n",
    "network = 'new'\n",
    "\n",
    "path = f\"data/metrostl/{network}\"\n",
    "with open(f\"{path}/headways.json\", 'r') as f:\n",
    "    current_headways = json.load(f)\n",
    "\n",
    "df_route_lens = pd.read_csv(f\"{path}/processed/route_lens.csv\", index_col=\"route_id\")\n",
    "base_drivers = {k: df_route_lens.loc[k].trip_len / v for k, v in current_headways.items()}\n",
    "base_sum = sum(base_drivers.values())\n",
    "drivers = {k:base_sum/len(base_drivers) for k in base_drivers} # All routes are the same to start\n",
    "base_sum"
   ]
  },
  {
   "cell_type": "code",
   "execution_count": null,
   "id": "7adfb864-24df-4ff6-b9a1-62ee94c5db92",
   "metadata": {
    "tags": []
   },
   "outputs": [],
   "source": [
    "%%time\n",
    "res_new = evaluate(base_drivers, hs=hs, max_dist=7200, orig='POP21', dest='C000', pct=True, scale=True, vis=True, network=network)"
   ]
  },
  {
   "cell_type": "code",
   "execution_count": null,
   "id": "534409d5-b4fa-40e2-9746-2a3fc1d66c43",
   "metadata": {
    "tags": []
   },
   "outputs": [],
   "source": [
    "res_new.plot('reached', legend=True, figsize=(20,15))\n",
    "res_new.plot('reached_scaled', legend=True, figsize=(20,15), vmax=300)\n",
    "# plt.savefig('test.png', bbox_inches='tight')\n",
    "# plt.close()"
   ]
  },
  {
   "cell_type": "code",
   "execution_count": null,
   "id": "151a7730-5bcd-48d8-8718-fac4cb9a8da0",
   "metadata": {},
   "outputs": [],
   "source": []
  },
  {
   "cell_type": "code",
   "execution_count": null,
   "id": "b538440a-bfa4-4b30-96a2-a547a4636b8a",
   "metadata": {
    "tags": []
   },
   "outputs": [],
   "source": [
    "%%time\n",
    "res_new['reached_diff'] = res_new.reached - res_old.reached\n",
    "res_new['reached_scaled_diff'] = res_new.reached_scaled - res_old.reached_scaled"
   ]
  },
  {
   "cell_type": "code",
   "execution_count": null,
   "id": "9236df1d-e53a-4476-bea9-8660fe1243a8",
   "metadata": {
    "tags": []
   },
   "outputs": [],
   "source": [
    "res_new.plot('reached_scaled', legend=True, figsize=(20,15), vmax=300)\n",
    "res_new.plot('reached_scaled_diff', legend=True, figsize=(20,15), vmax=50, vmin=-50, cmap='PiYG')\n",
    "# plt.savefig('test.png', bbox_inches='tight')\n",
    "# plt.close()"
   ]
  },
  {
   "cell_type": "code",
   "execution_count": null,
   "id": "a08ad029-4dff-4402-a413-2fbf51e38c08",
   "metadata": {},
   "outputs": [],
   "source": []
  },
  {
   "cell_type": "code",
   "execution_count": null,
   "id": "f784d338-2411-4e81-a7bf-8a74b6df69c9",
   "metadata": {},
   "outputs": [],
   "source": []
  },
  {
   "cell_type": "code",
   "execution_count": null,
   "id": "89667db5-940d-4af0-b782-4756e054c78c",
   "metadata": {},
   "outputs": [],
   "source": []
  },
  {
   "cell_type": "code",
   "execution_count": null,
   "id": "51b0233f-31e7-48ee-8a0e-e2ef8894ea71",
   "metadata": {},
   "outputs": [],
   "source": []
  }
 ],
 "metadata": {
  "kernelspec": {
   "display_name": "base",
   "language": "python",
   "name": "base"
  },
  "language_info": {
   "codemirror_mode": {
    "name": "ipython",
    "version": 3
   },
   "file_extension": ".py",
   "mimetype": "text/x-python",
   "name": "python",
   "nbconvert_exporter": "python",
   "pygments_lexer": "ipython3",
   "version": "3.10.12"
  }
 },
 "nbformat": 4,
 "nbformat_minor": 5
}
